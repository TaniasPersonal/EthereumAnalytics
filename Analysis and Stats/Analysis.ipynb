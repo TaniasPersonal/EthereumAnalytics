{
 "cells": [
  {
   "cell_type": "code",
   "execution_count": 1,
   "metadata": {},
   "outputs": [],
   "source": [
    "import pandas as pd"
   ]
  },
  {
   "cell_type": "code",
   "execution_count": 17,
   "metadata": {
    "scrolled": true
   },
   "outputs": [
    {
     "name": "stdout",
     "output_type": "stream",
     "text": [
      "label entities balance\n",
      "TX Sum  115289791.0\n",
      "['exchange', 279, 14912327.765044704]\n",
      "TX Sum  73073654.0\n",
      "['mining', 72, 28296.711111329998]\n",
      "TX Sum  30953820.0\n",
      "['dex', 55, 50687.93113737]\n",
      "TX Sum  459408.0\n",
      "['ico-wallets', 173, 1094189.9269836897]\n",
      "TX Sum  2564029.0\n",
      "['wallet-app', 7, 5751.36021809]\n",
      "TX Sum  783513.0\n",
      "['bithumb', 16, 17.32546907]\n",
      "TX Sum  1786629.0\n",
      "['compromised', 23, 23021.39237735]\n",
      "TX Sum  1096456.0\n",
      "['heist', 21, 243037.39109992996]\n",
      "TX Sum  74703430.0\n",
      "['bitfinex', 21, 4664491.86696615]\n",
      "TX Sum  505480.0\n",
      "['loans', 11, 414173.80005163996]\n",
      "TX Sum  62435.0\n",
      "['trading', 12, 2306.60861359]\n",
      "TX Sum  3987436.0\n",
      "['shapeshift', 12, 2809.1458707399993]\n",
      "TX Sum  254495.0\n",
      "['phish-hack', 4651, 10358.831413560007]\n",
      "Total_sum 305520576.0\n"
     ]
    }
   ],
   "source": [
    "labels = ['exchange', 'mining' , 'dex' , 'ico-wallets', 'wallet-app', 'compromised' , 'heist' ,'bitfinex',  'trading', 'shapeshift', 'phish-hack' ]\n",
    "print(\"label\", \"entities\", \"balance\")\n",
    "Tx_Sum = 0\n",
    "for label in labels:\n",
    "    df = pd.read_csv(\"labelled/\"+label+\".csv\")\n",
    "#     print(df.head(5))\n",
    "    entities = len(df)\n",
    "#     print(\"Entity\", entities)\n",
    "    Balance = df['Balance']\n",
    "    Addresses_list = df['Address']\n",
    "    modDfObj = Balance.apply(lambda x: x.split(\" \"))\n",
    "#     print(modDfObj.head())\n",
    "    balsum = 0\n",
    "    for i in range (0,len(modDfObj)):\n",
    "#         print(modDfObj[i][0])\n",
    "        bal = modDfObj[i][0].replace(\",\",\"\")\n",
    "#         print(bal)\n",
    "        balsum += float(bal)\n",
    "#     print('Sum',balsum)\n",
    "    Tx_df = df[\"Total_tx\"]\n",
    "#     modDfObj = Balance.apply(lambda x: x.split(\" \"))\n",
    "    Total_Tx = 0\n",
    "    for i in range (0,len(Tx_df)):\n",
    "#         print(modDfObj[i][0])\n",
    "        bal = Tx_df[i].replace(\",\",\"\")\n",
    "#         print(bal)\n",
    "        Total_Tx += float(bal)\n",
    "#     Total_Tx = Tx_df.sum()\n",
    "    print(\"TX Sum \", Total_Tx )\n",
    "    Tx_Sum  +=Total_Tx\n",
    "    print([label, entities, balsum])\n",
    "print(\"Total_sum\", Tx_Sum)"
   ]
  },
  {
   "cell_type": "code",
   "execution_count": 4,
   "metadata": {
    "scrolled": true
   },
   "outputs": [
    {
     "name": "stdout",
     "output_type": "stream",
     "text": [
      "Collecting google-api-python-client\n",
      "  Downloading https://files.pythonhosted.org/packages/83/fc/98045b8c5e0ba12929d423e9ff6b742951bb846707539b18f19b27c6ddc3/google_api_python_client-1.12.8-py2.py3-none-any.whl (61kB)\n",
      "Collecting google-auth-httplib2>=0.0.3 (from google-api-python-client)\n",
      "  Downloading https://files.pythonhosted.org/packages/bd/4e/992849016f8b0c27fb604aafd0a7a724db16128906197bd1245c6f18e6a1/google_auth_httplib2-0.0.4-py2.py3-none-any.whl\n",
      "Collecting uritemplate<4dev,>=3.0.0 (from google-api-python-client)\n",
      "  Downloading https://files.pythonhosted.org/packages/bf/0c/60d82c077998feb631608dca3cc1fe19ac074e772bf0c24cf409b977b815/uritemplate-3.0.1-py2.py3-none-any.whl\n",
      "Collecting six<2dev,>=1.13.0 (from google-api-python-client)\n",
      "  Using cached https://files.pythonhosted.org/packages/ee/ff/48bde5c0f013094d729fe4b0316ba2a24774b3ff1c52d924a8a4cb04078a/six-1.15.0-py2.py3-none-any.whl\n",
      "Collecting httplib2<1dev,>=0.15.0 (from google-api-python-client)\n",
      "  Using cached https://files.pythonhosted.org/packages/b3/ad/d9d9331850ea5bd4f5cb8c650c0bfa119a4abd6b0ad7c45b6506bc979fc0/httplib2-0.18.1-py3-none-any.whl\n",
      "Collecting google-api-core<2dev,>=1.21.0 (from google-api-python-client)\n",
      "  Using cached https://files.pythonhosted.org/packages/2e/3d/d7af13040ab5b259994a4434ff03d68084a994e709bc8afa4bee1235310e/google_api_core-1.23.0-py2.py3-none-any.whl\n",
      "Collecting google-auth>=1.16.0 (from google-api-python-client)\n",
      "  Using cached https://files.pythonhosted.org/packages/1d/60/81e68e70eea91ef05bb00bcdac243d67b61f826c65aaca6961de622dffd7/google_auth-1.23.0-py2.py3-none-any.whl\n",
      "Requirement not upgraded as not directly required: pytz in c:\\users\\tania\\anaconda31\\lib\\site-packages (from google-api-core<2dev,>=1.21.0->google-api-python-client) (2018.4)\n",
      "Collecting protobuf>=3.12.0 (from google-api-core<2dev,>=1.21.0->google-api-python-client)\n",
      "  Using cached https://files.pythonhosted.org/packages/32/0e/cf2a34c4429476c607eaa12c5bd85897412daafd7e0997462b72d2c9dc09/protobuf-3.14.0-cp36-cp36m-win_amd64.whl\n",
      "Requirement not upgraded as not directly required: setuptools>=34.0.0 in c:\\users\\tania\\anaconda31\\lib\\site-packages (from google-api-core<2dev,>=1.21.0->google-api-python-client) (39.1.0)\n",
      "Collecting googleapis-common-protos<2.0dev,>=1.6.0 (from google-api-core<2dev,>=1.21.0->google-api-python-client)\n",
      "  Using cached https://files.pythonhosted.org/packages/03/74/3956721ea1eb4bcf7502a311fdaa60b85bd751de4e57d1943afe9b334141/googleapis_common_protos-1.52.0-py2.py3-none-any.whl\n",
      "Requirement not upgraded as not directly required: requests<3.0.0dev,>=2.18.0 in c:\\users\\tania\\anaconda31\\lib\\site-packages (from google-api-core<2dev,>=1.21.0->google-api-python-client) (2.18.4)\n",
      "Collecting cachetools<5.0,>=2.0.0 (from google-auth>=1.16.0->google-api-python-client)\n",
      "  Using cached https://files.pythonhosted.org/packages/cd/5c/f3aa86b6d5482f3051b433c7616668a9b96fbe49a622210e2c9781938a5c/cachetools-4.1.1-py3-none-any.whl\n",
      "Collecting rsa<5,>=3.1.4; python_version >= \"3.5\" (from google-auth>=1.16.0->google-api-python-client)\n",
      "  Using cached https://files.pythonhosted.org/packages/1c/df/c3587a667d6b308fadc90b99e8bc8774788d033efcc70f4ecaae7fad144b/rsa-4.6-py3-none-any.whl\n",
      "Collecting pyasn1-modules>=0.2.1 (from google-auth>=1.16.0->google-api-python-client)\n",
      "  Using cached https://files.pythonhosted.org/packages/95/de/214830a981892a3e286c3794f41ae67a4495df1108c3da8a9f62159b9a9d/pyasn1_modules-0.2.8-py2.py3-none-any.whl\n",
      "Requirement not upgraded as not directly required: chardet<3.1.0,>=3.0.2 in c:\\users\\tania\\anaconda31\\lib\\site-packages (from requests<3.0.0dev,>=2.18.0->google-api-core<2dev,>=1.21.0->google-api-python-client) (3.0.4)\n",
      "Requirement not upgraded as not directly required: idna<2.7,>=2.5 in c:\\users\\tania\\anaconda31\\lib\\site-packages (from requests<3.0.0dev,>=2.18.0->google-api-core<2dev,>=1.21.0->google-api-python-client) (2.6)\n",
      "Requirement not upgraded as not directly required: urllib3<1.23,>=1.21.1 in c:\\users\\tania\\anaconda31\\lib\\site-packages (from requests<3.0.0dev,>=2.18.0->google-api-core<2dev,>=1.21.0->google-api-python-client) (1.22)\n",
      "Requirement not upgraded as not directly required: certifi>=2017.4.17 in c:\\users\\tania\\anaconda31\\lib\\site-packages (from requests<3.0.0dev,>=2.18.0->google-api-core<2dev,>=1.21.0->google-api-python-client) (2018.4.16)\n",
      "Collecting pyasn1>=0.1.3 (from rsa<5,>=3.1.4; python_version >= \"3.5\"->google-auth>=1.16.0->google-api-python-client)\n",
      "  Using cached https://files.pythonhosted.org/packages/62/1e/a94a8d635fa3ce4cfc7f506003548d0a2447ae76fd5ca53932970fe3053f/pyasn1-0.4.8-py2.py3-none-any.whl\n",
      "Installing collected packages: cachetools, six, pyasn1, rsa, pyasn1-modules, google-auth, httplib2, google-auth-httplib2, uritemplate, protobuf, googleapis-common-protos, google-api-core, google-api-python-client\n",
      "  Found existing installation: six 1.11.0\n",
      "    Uninstalling six-1.11.0:\n",
      "      Successfully uninstalled six-1.11.0\n",
      "Successfully installed cachetools-4.1.1 google-api-core-1.23.0 google-api-python-client-1.12.8 google-auth-1.23.0 google-auth-httplib2-0.0.4 googleapis-common-protos-1.52.0 httplib2-0.18.1 protobuf-3.14.0 pyasn1-0.4.8 pyasn1-modules-0.2.8 rsa-4.6 six-1.15.0 uritemplate-3.0.1\n"
     ]
    },
    {
     "name": "stderr",
     "output_type": "stream",
     "text": [
      "distributed 1.21.8 requires msgpack, which is not installed.\n",
      "google-auth 1.23.0 has requirement setuptools>=40.3.0, but you'll have setuptools 39.1.0 which is incompatible.\n",
      "You are using pip version 10.0.1, however version 20.3.1 is available.\n",
      "You should consider upgrading via the 'python -m pip install --upgrade pip' command.\n"
     ]
    }
   ],
   "source": [
    "!pip install --upgrade google-api-python-client"
   ]
  },
  {
   "cell_type": "code",
   "execution_count": 6,
   "metadata": {},
   "outputs": [
    {
     "name": "stdout",
     "output_type": "stream",
     "text": [
      "Collecting google-cloud-bigquery\n",
      "  Downloading https://files.pythonhosted.org/packages/d8/f3/d85bed4b3473bed6ed49e79d471e3d6a4cf56aa55e8023f0ac053880bfb4/google_cloud_bigquery-2.6.1-py2.py3-none-any.whl (211kB)\n",
      "Collecting google-cloud-core<2.0dev,>=1.4.1 (from google-cloud-bigquery)\n",
      "  Using cached https://files.pythonhosted.org/packages/b9/be/66b4b7c7e94879257f404a716385c62c0629e011351009c646dd04813175/google_cloud_core-1.4.4-py2.py3-none-any.whl\n",
      "Collecting proto-plus>=1.10.0 (from google-cloud-bigquery)\n",
      "Requirement already satisfied: protobuf>=3.12.0 in c:\\users\\tania\\anaconda31\\lib\\site-packages (from google-cloud-bigquery) (3.14.0)\n",
      "Requirement already satisfied: six<2.0.0dev,>=1.13.0 in c:\\users\\tania\\anaconda31\\lib\\site-packages (from google-cloud-bigquery) (1.15.0)\n",
      "Requirement already satisfied: google-api-core[grpc]<2.0.0dev,>=1.23.0 in c:\\users\\tania\\anaconda31\\lib\\site-packages (from google-cloud-bigquery) (1.23.0)\n",
      "Collecting google-resumable-media<2.0dev,>=0.6.0 (from google-cloud-bigquery)\n",
      "  Using cached https://files.pythonhosted.org/packages/52/4a/2dacac52a969aa4bdefeaedf555e972cc56f12fba4284dc41be7ffc42e69/google_resumable_media-1.1.0-py2.py3-none-any.whl\n",
      "Requirement already satisfied: requests<3.0.0dev,>=2.18.0 in c:\\users\\tania\\anaconda31\\lib\\site-packages (from google-api-core[grpc]<2.0.0dev,>=1.23.0->google-cloud-bigquery) (2.18.4)\n",
      "Requirement already satisfied: pytz in c:\\users\\tania\\anaconda31\\lib\\site-packages (from google-api-core[grpc]<2.0.0dev,>=1.23.0->google-cloud-bigquery) (2018.4)\n",
      "Requirement already satisfied: google-auth<2.0dev,>=1.21.1 in c:\\users\\tania\\anaconda31\\lib\\site-packages (from google-api-core[grpc]<2.0.0dev,>=1.23.0->google-cloud-bigquery) (1.23.0)\n",
      "Requirement already satisfied: googleapis-common-protos<2.0dev,>=1.6.0 in c:\\users\\tania\\anaconda31\\lib\\site-packages (from google-api-core[grpc]<2.0.0dev,>=1.23.0->google-cloud-bigquery) (1.52.0)\n",
      "Requirement already satisfied: setuptools>=34.0.0 in c:\\users\\tania\\anaconda31\\lib\\site-packages (from google-api-core[grpc]<2.0.0dev,>=1.23.0->google-cloud-bigquery) (39.1.0)\n",
      "Collecting grpcio<2.0dev,>=1.29.0; extra == \"grpc\" (from google-api-core[grpc]<2.0.0dev,>=1.23.0->google-cloud-bigquery)\n",
      "  Using cached https://files.pythonhosted.org/packages/42/03/b56d71f44517a46a3536171852062a7ea916109425e69a0effd1d705fc88/grpcio-1.34.0-cp36-cp36m-win_amd64.whl\n",
      "Collecting google-crc32c<2.0dev,>=1.0; python_version >= \"3.5\" (from google-resumable-media<2.0dev,>=0.6.0->google-cloud-bigquery)\n",
      "  Using cached https://files.pythonhosted.org/packages/39/3e/627ef5d6f378a62c33e88567bd6f93d2ecd2e36997d2bce73cd703954181/google_crc32c-1.0.0-cp36-cp36m-win_amd64.whl\n",
      "Requirement already satisfied: chardet<3.1.0,>=3.0.2 in c:\\users\\tania\\anaconda31\\lib\\site-packages (from requests<3.0.0dev,>=2.18.0->google-api-core[grpc]<2.0.0dev,>=1.23.0->google-cloud-bigquery) (3.0.4)\n",
      "Requirement already satisfied: idna<2.7,>=2.5 in c:\\users\\tania\\anaconda31\\lib\\site-packages (from requests<3.0.0dev,>=2.18.0->google-api-core[grpc]<2.0.0dev,>=1.23.0->google-cloud-bigquery) (2.6)\n",
      "Requirement already satisfied: urllib3<1.23,>=1.21.1 in c:\\users\\tania\\anaconda31\\lib\\site-packages (from requests<3.0.0dev,>=2.18.0->google-api-core[grpc]<2.0.0dev,>=1.23.0->google-cloud-bigquery) (1.22)\n",
      "Requirement already satisfied: certifi>=2017.4.17 in c:\\users\\tania\\anaconda31\\lib\\site-packages (from requests<3.0.0dev,>=2.18.0->google-api-core[grpc]<2.0.0dev,>=1.23.0->google-cloud-bigquery) (2018.4.16)\n",
      "Requirement already satisfied: pyasn1-modules>=0.2.1 in c:\\users\\tania\\anaconda31\\lib\\site-packages (from google-auth<2.0dev,>=1.21.1->google-api-core[grpc]<2.0.0dev,>=1.23.0->google-cloud-bigquery) (0.2.8)\n",
      "Requirement already satisfied: cachetools<5.0,>=2.0.0 in c:\\users\\tania\\anaconda31\\lib\\site-packages (from google-auth<2.0dev,>=1.21.1->google-api-core[grpc]<2.0.0dev,>=1.23.0->google-cloud-bigquery) (4.1.1)\n",
      "Requirement already satisfied: rsa<5,>=3.1.4; python_version >= \"3.5\" in c:\\users\\tania\\anaconda31\\lib\\site-packages (from google-auth<2.0dev,>=1.21.1->google-api-core[grpc]<2.0.0dev,>=1.23.0->google-cloud-bigquery) (4.6)\n",
      "Requirement already satisfied: cffi>=1.0.0 in c:\\users\\tania\\anaconda31\\lib\\site-packages (from google-crc32c<2.0dev,>=1.0; python_version >= \"3.5\"->google-resumable-media<2.0dev,>=0.6.0->google-cloud-bigquery) (1.11.5)\n",
      "Requirement already satisfied: pyasn1<0.5.0,>=0.4.6 in c:\\users\\tania\\anaconda31\\lib\\site-packages (from pyasn1-modules>=0.2.1->google-auth<2.0dev,>=1.21.1->google-api-core[grpc]<2.0.0dev,>=1.23.0->google-cloud-bigquery) (0.4.8)\n",
      "Requirement already satisfied: pycparser in c:\\users\\tania\\anaconda31\\lib\\site-packages (from cffi>=1.0.0->google-crc32c<2.0dev,>=1.0; python_version >= \"3.5\"->google-resumable-media<2.0dev,>=0.6.0->google-cloud-bigquery) (2.18)\n",
      "Installing collected packages: google-cloud-core, proto-plus, google-crc32c, google-resumable-media, google-cloud-bigquery, grpcio\n",
      "Successfully installed google-cloud-bigquery-2.6.1 google-cloud-core-1.4.4 google-crc32c-1.0.0 google-resumable-media-1.1.0 grpcio-1.34.0 proto-plus-1.13.0\n"
     ]
    },
    {
     "name": "stderr",
     "output_type": "stream",
     "text": [
      "distributed 1.21.8 requires msgpack, which is not installed.\n",
      "google-auth 1.23.0 has requirement setuptools>=40.3.0, but you'll have setuptools 39.1.0 which is incompatible.\n",
      "You are using pip version 10.0.1, however version 20.3.1 is available.\n",
      "You should consider upgrading via the 'python -m pip install --upgrade pip' command.\n"
     ]
    }
   ],
   "source": [
    "!pip install google-cloud-bigquery"
   ]
  },
  {
   "cell_type": "code",
   "execution_count": 3,
   "metadata": {
    "scrolled": false
   },
   "outputs": [],
   "source": [
    "from collections import abc as collections_abc\n",
    "from google.cloud import bigquery\n",
    "import google.auth\n"
   ]
  },
  {
   "cell_type": "code",
   "execution_count": 4,
   "metadata": {},
   "outputs": [],
   "source": [
    "# client = bigquery.Client()\n",
    "client = bigquery.Client.from_service_account_json('C:/Users/Tania/Downloads/Ethereum-d1a3626a9442.json')"
   ]
  },
  {
   "cell_type": "code",
   "execution_count": 7,
   "metadata": {},
   "outputs": [],
   "source": [
    "query_job = client.query(\n",
    "    \"\"\"\n",
    "    SELECT to_address, from_address, value, gas, gas_price, nonce FROM `bigquery-public-data.ethereum_blockchain.live_transactions` LIMIT 10 \"\"\"\n",
    ")\n",
    "\n",
    "# SELECT count(*) FROM `bigquery-public-data.ethereum_blockchain.live_transactions` where to_address in Addresses_list\n",
    "\n",
    "results = query_job.result()  # Waits for job to complete."
   ]
  },
  {
   "cell_type": "code",
   "execution_count": 8,
   "metadata": {},
   "outputs": [
    {
     "name": "stdout",
     "output_type": "stream",
     "text": [
      "Row(('0x32be343b94f860124dc4fee278fdcbd38c102d88', '0x34d34f0a638f6991e4e2536f41295df6e934a646', Decimal('3025892430000000000'), 21000, 50000000000, 163), {'to_address': 0, 'from_address': 1, 'value': 2, 'gas': 3, 'gas_price': 4, 'nonce': 5})  \n",
      "Row(('0x32be343b94f860124dc4fee278fdcbd38c102d88', '0x85792d2e8c48b8c2388bc027dc45dda07a351039', Decimal('2325035240000000000'), 21000, 50000000000, 42), {'to_address': 0, 'from_address': 1, 'value': 2, 'gas': 3, 'gas_price': 4, 'nonce': 5})  \n",
      "Row(('0x32be343b94f860124dc4fee278fdcbd38c102d88', '0xf5695ae85ab4f83a5f859c4c691ce7cef32b708b', Decimal('3169677860000000000'), 21000, 50000000000, 865), {'to_address': 0, 'from_address': 1, 'value': 2, 'gas': 3, 'gas_price': 4, 'nonce': 5})  \n",
      "Row(('0x32be343b94f860124dc4fee278fdcbd38c102d88', '0xf2a070202160b51a452b5010e6a9d318dff7c2eb', Decimal('3007818930000000000'), 21000, 50000000000, 128), {'to_address': 0, 'from_address': 1, 'value': 2, 'gas': 3, 'gas_price': 4, 'nonce': 5})  \n",
      "Row(('0x32be343b94f860124dc4fee278fdcbd38c102d88', '0xaa656e51565979f6893797a72fcd06716a15eab8', Decimal('1017891130000000000'), 21000, 50000000000, 745), {'to_address': 0, 'from_address': 1, 'value': 2, 'gas': 3, 'gas_price': 4, 'nonce': 5})  \n",
      "Row(('0xfbb1b73c4f0bda4f67dca266ce6ef42f520fbb98', '0x4389fe2aca02fe8a46f9b2679ae41fd6124fc840', Decimal('2232600760000000000'), 21000, 50000000000, 42), {'to_address': 0, 'from_address': 1, 'value': 2, 'gas': 3, 'gas_price': 4, 'nonce': 5})  \n",
      "Row(('0x32be343b94f860124dc4fee278fdcbd38c102d88', '0xff5c59f0d02627c57ca5604fcfa76fe9ac3ed80d', Decimal('2001850260000000000'), 21000, 50000000000, 32), {'to_address': 0, 'from_address': 1, 'value': 2, 'gas': 3, 'gas_price': 4, 'nonce': 5})  \n",
      "Row(('0x32be343b94f860124dc4fee278fdcbd38c102d88', '0x9990f7e058ed31e6af66396499b989cae124cc23', Decimal('5005928680000000000'), 21000, 50000000000, 119), {'to_address': 0, 'from_address': 1, 'value': 2, 'gas': 3, 'gas_price': 4, 'nonce': 5})  \n",
      "Row(('0x32be343b94f860124dc4fee278fdcbd38c102d88', '0x998ce3d09d62abf9d8082352d8a97f57099e4421', Decimal('4005173630000000000'), 21000, 50000000000, 147), {'to_address': 0, 'from_address': 1, 'value': 2, 'gas': 3, 'gas_price': 4, 'nonce': 5})  \n",
      "Row(('0x32be343b94f860124dc4fee278fdcbd38c102d88', '0xb7db4eb29c43d0d16c1b458e125ad60616a61a9d', Decimal('10006170580000000000'), 21000, 50000000000, 2), {'to_address': 0, 'from_address': 1, 'value': 2, 'gas': 3, 'gas_price': 4, 'nonce': 5})  \n"
     ]
    }
   ],
   "source": [
    "for row in results:\n",
    "    print(\"{}  \".format(row))"
   ]
  },
  {
   "cell_type": "code",
   "execution_count": null,
   "metadata": {},
   "outputs": [],
   "source": [
    "query_job = client.query(\n",
    "    \"\"\"\n",
    "    SELECT count(*) as Tx_sent  FROM `bigquery-public-data.ethereum_blockchain.transactions` where to_address =  \"\"\"\n",
    ")\n",
    "\n",
    "# SELECT count(*) FROM `bigquery-public-data.ethereum_blockchain.live_transactions` where to_address in Addresses_list\n",
    "\n",
    "results = query_job.result()  # Waits for job to complete."
   ]
  },
  {
   "cell_type": "markdown",
   "metadata": {},
   "source": [
    "##Upload the roles files in bigquery and run the following queries to extract stats\n"
   ]
  },
  {
   "cell_type": "markdown",
   "metadata": {},
   "source": [
    "##We need to run queries for each class separately"
   ]
  },
  {
   "cell_type": "code",
   "execution_count": null,
   "metadata": {},
   "outputs": [],
   "source": [
    "-- SELECT\n",
    "--   COUNT(*) AS tx_sent,\n",
    "--   SUM(value/1000000000000000000) AS ethersent,\n",
    "--   SUM(gas* (gas_price/1000000000000000000)) AS tx_fee\n",
    "-- FROM\n",
    "--   `bigquery-public-data.ethereum_blockchain.transactions` AS t1\n",
    "-- INNER JOIN\n",
    "--   `ethereum-262008.Roles.bitfinex` AS t2\n",
    "-- ON\n",
    "--   t1.to_address = t2.address;\n",
    "-- SELECT\n",
    "--   COUNT(*) AS tx_received,\n",
    "--   SUM(value/1000000000000000000) AS etherreceived\n",
    "-- FROM\n",
    "--   `bigquery-public-data.ethereum_blockchain.transactions` AS t1\n",
    "-- INNER JOIN\n",
    "--   `ethereum-262008.Roles.bitfinex` AS t2\n",
    "-- ON\n",
    "--   t1.from_address = t2.address;\n",
    " \n",
    "\n",
    "-- SELECT\n",
    "--   COUNT(*) AS tx_sent,\n",
    "--   SUM(value/1000000000000000000) AS ethersent,\n",
    "--   SUM(gas* (gas_price/1000000000000000000)) AS tx_fee\n",
    "-- FROM\n",
    "--   `bigquery-public-data.ethereum_blockchain.transactions` AS t1\n",
    "-- INNER JOIN\n",
    "--   `ethereum-262008.Roles.bithumb` AS t2\n",
    "-- ON\n",
    "--   t1.to_address = t2.address;\n",
    "-- SELECT\n",
    "--   COUNT(*) AS tx_received,\n",
    "--   SUM(value/1000000000000000000) AS etherreceived\n",
    "-- FROM\n",
    "--   `bigquery-public-data.ethereum_blockchain.transactions` AS t1\n",
    "-- INNER JOIN\n",
    "--   `ethereum-262008.Roles.bithumb` AS t2\n",
    "-- ON\n",
    "--   t1.from_address = t2.address;\n",
    "\n",
    "\n",
    "SELECT\n",
    "  COUNT(*) AS tx_sent,\n",
    "  SUM(value/1000000000000000000) AS ethersent,\n",
    "  SUM(gas* (gas_price/1000000000000000000)) AS tx_fee\n",
    "FROM\n",
    "  `bigquery-public-data.ethereum_blockchain.transactions` AS t1\n",
    "INNER JOIN\n",
    "  `ethereum-262008.Roles.wallet-app` AS t2\n",
    "ON\n",
    "  t1.to_address = t2.address;\n",
    "SELECT\n",
    "  COUNT(*) AS tx_received,\n",
    "  SUM(value/1000000000000000000) AS etherreceived\n",
    "FROM\n",
    "  `bigquery-public-data.ethereum_blockchain.transactions` AS t1\n",
    "INNER JOIN\n",
    "  `ethereum-262008.Roles.wallet-app` AS t2\n",
    "ON\n",
    "  t1.from_address = t2.address;\n",
    "  \n",
    "  "
   ]
  },
  {
   "cell_type": "markdown",
   "metadata": {},
   "source": [
    "## To calculate the stats of each entity.. \n",
    "### Run separately for each la"
   ]
  },
  {
   "cell_type": "code",
   "execution_count": null,
   "metadata": {},
   "outputs": [],
   "source": [
    "\n",
    "SELECT\n",
    "  t2.address,\n",
    "  t2.entity,\n",
    "  COUNT(*) AS tx_received,\n",
    "  SUM(value/1000000000000000000) AS etherreceived\n",
    "FROM\n",
    "  `bigquery-public-data.ethereum_blockchain.transactions` AS t1\n",
    "INNER JOIN\n",
    "  `ethereum-262008.Roles.wallet-app` AS t2\n",
    "ON\n",
    "  t1.from_address = t2.address\n",
    "  group by t2.address , t2.entity;\n",
    "  \n",
    "  \n",
    "SELECT\n",
    "  t2.address,\n",
    "  t2.entity,\n",
    "  COUNT(*) AS tx_sent,\n",
    "  SUM(value/1000000000000000000) AS ethersent,\n",
    "  SUM(gas* (gas_price/1000000000000000000)) AS tx_fee\n",
    "FROM\n",
    "  `bigquery-public-data.ethereum_blockchain.transactions` AS t1\n",
    "INNER JOIN\n",
    "  `ethereum-262008.Roles.wallet-app` AS t2\n",
    "ON\n",
    "  t1.to_address = t2.address\n",
    "  group by t2.address, t2.entity;\n"
   ]
  },
  {
   "cell_type": "code",
   "execution_count": null,
   "metadata": {},
   "outputs": [],
   "source": [
    "# !conda install -c conda-forge google-cloud-bigquery \\\n",
    "#   google-cloud-bigquery-storage \\\n",
    "#   pandas \\\n",
    "#   pyarrow"
   ]
  },
  {
   "cell_type": "code",
   "execution_count": 11,
   "metadata": {},
   "outputs": [],
   "source": [
    "# import collections as collections_abc"
   ]
  },
  {
   "cell_type": "code",
   "execution_count": null,
   "metadata": {},
   "outputs": [],
   "source": []
  }
 ],
 "metadata": {
  "kernelspec": {
   "display_name": "Python 3",
   "language": "python",
   "name": "python3"
  },
  "language_info": {
   "codemirror_mode": {
    "name": "ipython",
    "version": 3
   },
   "file_extension": ".py",
   "mimetype": "text/x-python",
   "name": "python",
   "nbconvert_exporter": "python",
   "pygments_lexer": "ipython3",
   "version": "3.6.5"
  }
 },
 "nbformat": 4,
 "nbformat_minor": 2
}
